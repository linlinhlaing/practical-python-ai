{
 "cells": [
  {
   "cell_type": "code",
   "execution_count": 24,
   "metadata": {},
   "outputs": [
    {
     "name": "stdout",
     "output_type": "stream",
     "text": [
      "<class 'list'>\n"
     ]
    },
    {
     "data": {
      "text/plain": [
       "{'publication_date': ['2024-01-15', '2024-02-20', '2024-03-10', '2024-03-10'],\n",
       " 'title': ['The Python Adventure',\n",
       "  'Data Science with Python',\n",
       "  'Machine Learning Basics',\n",
       "  'Python Basics'],\n",
       " 'author_name': ['Alice Smith',\n",
       "  'Bob Johnson',\n",
       "  'Charlie Brown',\n",
       "  'Charlie Brown'],\n",
       " 'discount_price': [-12.495, -14.995, -17.495, -15.0]}"
      ]
     },
     "execution_count": 24,
     "metadata": {},
     "output_type": "execute_result"
    }
   ],
   "source": [
    "from model import Author,Book\n",
    "import pandas as pd\n",
    "import numpy as np\n",
    "\n",
    "# Create Author objects\n",
    "author1 = Author(\n",
    "    birth_date=\"1980-05-15\",\n",
    "    author_id=\"A001\",\n",
    "    author_name=\"Alice Smith\"\n",
    ")\n",
    "\n",
    "author2 = Author(\n",
    "    birth_date=\"1975-09-22\",\n",
    "    author_id=\"A002\",\n",
    "    author_name=\"Bob Johnson\"\n",
    ")\n",
    "\n",
    "author3 = Author(\n",
    "    birth_date=\"1990-11-05\",\n",
    "    author_id=\"A003\",\n",
    "    author_name=\"Charlie Brown\"\n",
    ")\n",
    "\n",
    "# Create Book objects\n",
    "book1 = Book(\n",
    "    publication_date=\"2024-01-15\",\n",
    "    book_id=\"B001\",\n",
    "    title=\"The Python Adventure\",\n",
    "    isbn=\"978-1-23456-789-1\",\n",
    "    price=24.99,\n",
    "    author=author1\n",
    ")\n",
    "\n",
    "book2 = Book(\n",
    "    publication_date=\"2024-02-20\",\n",
    "    book_id=\"B002\",\n",
    "    title=\"Data Science with Python\",\n",
    "    isbn=\"978-1-23456-789-2\",\n",
    "    price=29.99,\n",
    "    author=author2\n",
    ")\n",
    "\n",
    "book3 = Book(\n",
    "    publication_date=\"2024-03-10\",\n",
    "    book_id=\"B003\",\n",
    "    title=\"Machine Learning Basics\",\n",
    "    isbn=\"978-1-23456-789-3\",\n",
    "    price=34.99,\n",
    "    author=author3\n",
    ")\n",
    "book4 = Book(\n",
    "    publication_date=\"2024-03-10\",\n",
    "    book_id=\"B003\",\n",
    "    title=\"Python Basics\",\n",
    "    isbn=\"978-1-23456-546-3\",\n",
    "    price=30.00,\n",
    "    author=author3\n",
    ")\n",
    "bookList = [book1,book2,book3,book4]\n",
    "\n",
    "# print(author1)\n",
    "# print(author2)\n",
    "# print(author3)\n",
    "# print(book1)\n",
    "# print(book2)\n",
    "# print(book3)\n",
    "\n",
    "# print(bookList)\n",
    "print(type(bookList))\n",
    "\n",
    "bookList_dict ={\n",
    "    \"publication_date\":[],\n",
    "    \"title\":[],\n",
    "    \"author_name\":[],\n",
    "    \"discount_price\":[]\n",
    "}\n",
    "\n",
    "# BookList contains book objects\n",
    "# Populate book object list into dictionary\n",
    "for current_book in bookList:\n",
    "    bookList_dict[\"publication_date\"].append(current_book.publication_date)\n",
    "    bookList_dict[\"title\"].append(current_book.title)\n",
    "    bookList_dict[\"author_name\"].append(current_book.author.name)\n",
    "    bookList_dict[\"discount_price\"].append(current_book.getDiscountedPrice(1.5))\n",
    "\n",
    "\"\"\"\n",
    "wrong implementation\n",
    "   bookList_dict.append(current_obj.publication_date)\n",
    "    bookList_dict.append(current_obj.title)\n",
    "    bookList_dict.append(current_obj.getDiscountedPrice)\n",
    "\"\"\"\n",
    " \n",
    "\n",
    "bookList_dict  "
   ]
  },
  {
   "cell_type": "markdown",
   "metadata": {},
   "source": [
    "### <span style=\"color: red;\">Converting dictionary into pandas data frame</span>"
   ]
  },
  {
   "cell_type": "markdown",
   "metadata": {},
   "source": [
    "## "
   ]
  },
  {
   "cell_type": "code",
   "execution_count": 25,
   "metadata": {},
   "outputs": [],
   "source": [
    "bookList_dict_df = pd.DataFrame(bookList_dict)"
   ]
  },
  {
   "cell_type": "code",
   "execution_count": 26,
   "metadata": {},
   "outputs": [
    {
     "data": {
      "text/html": [
       "<div>\n",
       "<style scoped>\n",
       "    .dataframe tbody tr th:only-of-type {\n",
       "        vertical-align: middle;\n",
       "    }\n",
       "\n",
       "    .dataframe tbody tr th {\n",
       "        vertical-align: top;\n",
       "    }\n",
       "\n",
       "    .dataframe thead th {\n",
       "        text-align: right;\n",
       "    }\n",
       "</style>\n",
       "<table border=\"1\" class=\"dataframe\">\n",
       "  <thead>\n",
       "    <tr style=\"text-align: right;\">\n",
       "      <th></th>\n",
       "      <th>publication_date</th>\n",
       "      <th>title</th>\n",
       "      <th>author_name</th>\n",
       "      <th>discount_price</th>\n",
       "    </tr>\n",
       "  </thead>\n",
       "  <tbody>\n",
       "    <tr>\n",
       "      <th>0</th>\n",
       "      <td>2024-01-15</td>\n",
       "      <td>The Python Adventure</td>\n",
       "      <td>Alice Smith</td>\n",
       "      <td>-12.495</td>\n",
       "    </tr>\n",
       "    <tr>\n",
       "      <th>1</th>\n",
       "      <td>2024-02-20</td>\n",
       "      <td>Data Science with Python</td>\n",
       "      <td>Bob Johnson</td>\n",
       "      <td>-14.995</td>\n",
       "    </tr>\n",
       "    <tr>\n",
       "      <th>2</th>\n",
       "      <td>2024-03-10</td>\n",
       "      <td>Machine Learning Basics</td>\n",
       "      <td>Charlie Brown</td>\n",
       "      <td>-17.495</td>\n",
       "    </tr>\n",
       "    <tr>\n",
       "      <th>3</th>\n",
       "      <td>2024-03-10</td>\n",
       "      <td>Python Basics</td>\n",
       "      <td>Charlie Brown</td>\n",
       "      <td>-15.000</td>\n",
       "    </tr>\n",
       "  </tbody>\n",
       "</table>\n",
       "</div>"
      ],
      "text/plain": [
       "  publication_date                     title    author_name  discount_price\n",
       "0       2024-01-15      The Python Adventure    Alice Smith         -12.495\n",
       "1       2024-02-20  Data Science with Python    Bob Johnson         -14.995\n",
       "2       2024-03-10   Machine Learning Basics  Charlie Brown         -17.495\n",
       "3       2024-03-10             Python Basics  Charlie Brown         -15.000"
      ]
     },
     "execution_count": 26,
     "metadata": {},
     "output_type": "execute_result"
    }
   ],
   "source": [
    "bookList_dict_df"
   ]
  },
  {
   "cell_type": "markdown",
   "metadata": {},
   "source": [
    "### <span style=\"color: red;\">Select the first row</span>"
   ]
  },
  {
   "cell_type": "code",
   "execution_count": 27,
   "metadata": {},
   "outputs": [
    {
     "data": {
      "text/plain": [
       "publication_date              2024-01-15\n",
       "title               The Python Adventure\n",
       "author_name                  Alice Smith\n",
       "discount_price                   -12.495\n",
       "Name: 0, dtype: object"
      ]
     },
     "execution_count": 27,
     "metadata": {},
     "output_type": "execute_result"
    }
   ],
   "source": [
    "first_row = bookList_dict_df.iloc[0]\n",
    "first_row"
   ]
  },
  {
   "cell_type": "markdown",
   "metadata": {},
   "source": [
    "### <span style=\"color: red;\">Select the first column</span>"
   ]
  },
  {
   "cell_type": "code",
   "execution_count": 28,
   "metadata": {},
   "outputs": [
    {
     "data": {
      "text/plain": [
       "0      Alice Smith\n",
       "1      Bob Johnson\n",
       "2    Charlie Brown\n",
       "3    Charlie Brown\n",
       "Name: author_name, dtype: object"
      ]
     },
     "execution_count": 28,
     "metadata": {},
     "output_type": "execute_result"
    }
   ],
   "source": [
    "bookList_dict_df[\"author_name\"]"
   ]
  },
  {
   "cell_type": "markdown",
   "metadata": {},
   "source": [
    "### <span style=\"color: red;\">Conditional Selection:</span>"
   ]
  },
  {
   "cell_type": "code",
   "execution_count": 29,
   "metadata": {},
   "outputs": [
    {
     "data": {
      "text/html": [
       "<div>\n",
       "<style scoped>\n",
       "    .dataframe tbody tr th:only-of-type {\n",
       "        vertical-align: middle;\n",
       "    }\n",
       "\n",
       "    .dataframe tbody tr th {\n",
       "        vertical-align: top;\n",
       "    }\n",
       "\n",
       "    .dataframe thead th {\n",
       "        text-align: right;\n",
       "    }\n",
       "</style>\n",
       "<table border=\"1\" class=\"dataframe\">\n",
       "  <thead>\n",
       "    <tr style=\"text-align: right;\">\n",
       "      <th></th>\n",
       "      <th>publication_date</th>\n",
       "      <th>title</th>\n",
       "      <th>author_name</th>\n",
       "      <th>discount_price</th>\n",
       "    </tr>\n",
       "  </thead>\n",
       "  <tbody>\n",
       "    <tr>\n",
       "      <th>0</th>\n",
       "      <td>2024-01-15</td>\n",
       "      <td>The Python Adventure</td>\n",
       "      <td>Alice Smith</td>\n",
       "      <td>-12.495</td>\n",
       "    </tr>\n",
       "  </tbody>\n",
       "</table>\n",
       "</div>"
      ],
      "text/plain": [
       "  publication_date                 title  author_name  discount_price\n",
       "0       2024-01-15  The Python Adventure  Alice Smith         -12.495"
      ]
     },
     "execution_count": 29,
     "metadata": {},
     "output_type": "execute_result"
    }
   ],
   "source": [
    "## Select rows where column 'author_name' is \"Alice Smith\"\n",
    "bookList_dict_df[bookList_dict_df[\"author_name\"] == \"Alice Smith\"]"
   ]
  },
  {
   "cell_type": "markdown",
   "metadata": {},
   "source": [
    "### <span style=\"color: red;\">Using set</span>\n",
    "### Characteristics of Using `set()` for Unique Values\n",
    "\n",
    "- **Conversion to Set:** Converts the column data into a Python set, which inherently removes duplicates.\n",
    "- **Output:** Returns a Python `set` object containing the unique values.\n",
    "- **Order:** Does not preserve the order of the elements as sets are unordered collections.\n",
    "- **DataFrame Integration:** If you need the result in a DataFrame format, you’ll need to convert the set back into a DataFrame.\n"
   ]
  },
  {
   "cell_type": "code",
   "execution_count": 30,
   "metadata": {},
   "outputs": [
    {
     "name": "stdout",
     "output_type": "stream",
     "text": [
      "{'Charlie Brown', 'Alice Smith', 'Bob Johnson'} <class 'set'>\n"
     ]
    }
   ],
   "source": [
    "distinct_authors1 = set(bookList_dict_df[\"author_name\"])\n",
    "print(distinct_authors1,type(distinct_authors1))"
   ]
  },
  {
   "cell_type": "markdown",
   "metadata": {},
   "source": [
    "### <span style=\"color: red;\">Convert Set to DataFrame with Single Column</span>"
   ]
  },
  {
   "cell_type": "code",
   "execution_count": 31,
   "metadata": {},
   "outputs": [
    {
     "name": "stdout",
     "output_type": "stream",
     "text": [
      "     author_name\n",
      "0  Charlie Brown\n",
      "1    Alice Smith\n",
      "2    Bob Johnson\n"
     ]
    }
   ],
   "source": [
    "\n",
    "# Convert set to list\n",
    "unique_values_list = list(distinct_authors1)\n",
    "\n",
    "# Convert list to DataFrame\n",
    "df = pd.DataFrame(unique_values_list, columns=['author_name'])\n",
    "\n",
    "print(df)"
   ]
  },
  {
   "cell_type": "markdown",
   "metadata": {},
   "source": [
    "### <span style=\"color: red;\">Using unique()</span>\n",
    "### Characteristics of Using `unique()` for Unique Values\n",
    "\n",
    "- **Pandas Method:** `unique()` is a pandas method specifically designed for extracting unique values from a Series.\n",
    "- **Output:** Returns a NumPy array containing the unique values.\n",
    "- **Order:** Preserves the order of the first occurrences of unique values.\n",
    "- **DataFrame Integration:** Directly returns an array, which can be easily converted to a DataFrame if needed.\n"
   ]
  },
  {
   "cell_type": "code",
   "execution_count": 32,
   "metadata": {
    "vscode": {
     "languageId": "javascript"
    }
   },
   "outputs": [
    {
     "name": "stdout",
     "output_type": "stream",
     "text": [
      "['Alice Smith' 'Bob Johnson' 'Charlie Brown'] <class 'numpy.ndarray'>\n"
     ]
    }
   ],
   "source": [
    "distinct_authors2 = bookList_dict_df[\"author_name\"].unique()\n",
    "print(distinct_authors2,type(distinct_authors2))\n"
   ]
  },
  {
   "cell_type": "code",
   "execution_count": 33,
   "metadata": {
    "vscode": {
     "languageId": "javascript"
    }
   },
   "outputs": [
    {
     "name": "stdout",
     "output_type": "stream",
     "text": [
      "     author_name\n",
      "0    Alice Smith\n",
      "1    Bob Johnson\n",
      "2  Charlie Brown\n"
     ]
    }
   ],
   "source": [
    "array_1d = np.array(['Alice Smith', 'Bob Johnson', 'Charlie Brown'])\n",
    "df = pd.DataFrame(array_1d, columns=['author_name'])\n",
    "print(df)\n"
   ]
  },
  {
   "cell_type": "code",
   "execution_count": null,
   "metadata": {},
   "outputs": [],
   "source": []
  }
 ],
 "metadata": {
  "kernelspec": {
   "display_name": "ml_env",
   "language": "python",
   "name": "python3"
  },
  "language_info": {
   "codemirror_mode": {
    "name": "ipython",
    "version": 3
   },
   "file_extension": ".py",
   "mimetype": "text/x-python",
   "name": "python",
   "nbconvert_exporter": "python",
   "pygments_lexer": "ipython3",
   "version": "3.8.18"
  }
 },
 "nbformat": 4,
 "nbformat_minor": 2
}
