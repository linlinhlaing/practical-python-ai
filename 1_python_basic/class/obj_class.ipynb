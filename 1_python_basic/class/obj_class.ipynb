{
 "cells": [
  {
   "cell_type": "code",
   "execution_count": 16,
   "metadata": {},
   "outputs": [
    {
     "name": "stdout",
     "output_type": "stream",
     "text": [
      "<class 'list'>\n"
     ]
    },
    {
     "data": {
      "text/plain": [
       "{'publication_date': ['2024-01-15', '2024-02-20', '2024-03-10'],\n",
       " 'title': ['The Python Adventure',\n",
       "  'Data Science with Python',\n",
       "  'Machine Learning Basics'],\n",
       " 'discount_price': [-224.91, -269.90999999999997, -314.91]}"
      ]
     },
     "execution_count": 16,
     "metadata": {},
     "output_type": "execute_result"
    }
   ],
   "source": [
    "from model import Author,Book\n",
    "\n",
    "# Create Author objects\n",
    "author1 = Author(\n",
    "    birth_date=\"1980-05-15\",\n",
    "    author_id=\"A001\",\n",
    "    author_name=\"Alice Smith\"\n",
    ")\n",
    "\n",
    "author2 = Author(\n",
    "    birth_date=\"1975-09-22\",\n",
    "    author_id=\"A002\",\n",
    "    author_name=\"Bob Johnson\"\n",
    ")\n",
    "\n",
    "author3 = Author(\n",
    "    birth_date=\"1990-11-05\",\n",
    "    author_id=\"A003\",\n",
    "    author_name=\"Charlie Brown\"\n",
    ")\n",
    "\n",
    "# Create Book objects\n",
    "book1 = Book(\n",
    "    publication_date=\"2024-01-15\",\n",
    "    book_id=\"B001\",\n",
    "    title=\"The Python Adventure\",\n",
    "    isbn=\"978-1-23456-789-1\",\n",
    "    price=24.99,\n",
    "    author=author1\n",
    ")\n",
    "\n",
    "book2 = Book(\n",
    "    publication_date=\"2024-02-20\",\n",
    "    book_id=\"B002\",\n",
    "    title=\"Data Science with Python\",\n",
    "    isbn=\"978-1-23456-789-2\",\n",
    "    price=29.99,\n",
    "    author=author2\n",
    ")\n",
    "\n",
    "book3 = Book(\n",
    "    publication_date=\"2024-03-10\",\n",
    "    book_id=\"B003\",\n",
    "    title=\"Machine Learning Basics\",\n",
    "    isbn=\"978-1-23456-789-3\",\n",
    "    price=34.99,\n",
    "    author=author3\n",
    ")\n",
    "bookList = [book1,book2,book3]\n",
    "\n",
    "# print(author1)\n",
    "# print(author2)\n",
    "# print(author3)\n",
    "# print(book1)\n",
    "# print(book2)\n",
    "# print(book3)\n",
    "\n",
    "# print(bookList)\n",
    "print(type(bookList))\n",
    "\n",
    "bookList_dict ={\n",
    "    \"publication_date\":[],\n",
    "    \"title\":[],\n",
    "    \"discount_price\":[]\n",
    "}\n",
    "\n",
    "# BookList contains book objects\n",
    "# Populate book object list into dictionary\n",
    "for current_book in bookList:\n",
    "    bookList_dict[\"publication_date\"].append(current_book.publication_date)\n",
    "    bookList_dict[\"title\"].append(current_book.title)\n",
    "    bookList_dict[\"discount_price\"].append(current_book.getDiscountedPrice(10))\n",
    "\n",
    "\"\"\"\n",
    "wrong implementation\n",
    "   bookList_dict.append(current_obj.publication_date)\n",
    "    bookList_dict.append(current_obj.title)\n",
    "    bookList_dict.append(current_obj.getDiscountedPrice)\n",
    "\"\"\"\n",
    " \n",
    "\n",
    "bookList_dict  "
   ]
  },
  {
   "cell_type": "code",
   "execution_count": null,
   "metadata": {},
   "outputs": [],
   "source": []
  }
 ],
 "metadata": {
  "kernelspec": {
   "display_name": "ml_env",
   "language": "python",
   "name": "python3"
  },
  "language_info": {
   "codemirror_mode": {
    "name": "ipython",
    "version": 3
   },
   "file_extension": ".py",
   "mimetype": "text/x-python",
   "name": "python",
   "nbconvert_exporter": "python",
   "pygments_lexer": "ipython3",
   "version": "3.8.18"
  }
 },
 "nbformat": 4,
 "nbformat_minor": 2
}
