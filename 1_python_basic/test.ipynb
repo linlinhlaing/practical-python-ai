{
 "cells": [
  {
   "cell_type": "code",
   "execution_count": null,
   "metadata": {},
   "outputs": [],
   "source": []
  },
  {
   "cell_type": "code",
   "execution_count": null,
   "metadata": {},
   "outputs": [],
   "source": [
    "#fourCalculation.py\n",
    "\"\"\"A simple class creatin for arithmetic operation\"\"\"\n",
    "class FourCalculation:\n",
    "    def __init__(self,first,second):\n",
    "        self.first = first\n",
    "        self.second = second\n",
    "    def add(self):\n",
    "        return self.first + self.second\n",
    "\n",
    "    def substract(self):\n",
    "        return self.first - self.second\n",
    "\n",
    "    def mul(self):\n",
    "        return self.first * self.second\n",
    "\n",
    "    def div(self):\n",
    "        return self.first/self.second\n",
    "    \n",
    "a = FourCalculation(10,5)\n",
    "print(f'First number is {a.first}') \n",
    "print(f'Second number is {a.second}')\n",
    "print(f'Addition result is {a.add()}') \n",
    "print(f'Second number is {a.second}')\n",
    "print(f'Substraction result is {a.substract()}') \n",
    "print(f'Second number is {a.second}')\n",
    "print(f'Multiplication result is {a.mul()}')     \n",
    "print(f'Division result is {a.div()}')  "
   ]
  },
  {
   "cell_type": "markdown",
   "metadata": {},
   "source": []
  },
  {
   "cell_type": "code",
   "execution_count": null,
   "metadata": {},
   "outputs": [],
   "source": [
    "#fivecalculation.py\n",
    "class FiveCalculation(FourCalculation):\n",
    "    \"\"\"Adding power calculation\"\"\"\n",
    "    def __init__(self, first, second,third):\n",
    "        super().__init__(first, second)\n",
    "        self.third = third\n",
    "    def pow(self):\n",
    "        return self.third ** 2\n",
    "\n",
    "    def div(self):\n",
    "        print(\"\\nThis is overriding method\")\n",
    "        raise NotImplementedError(\"This method should not be used in Derived class\")\n",
    "        if self.second == 0: #Method overriding\n",
    "            return 0\n",
    "        else:\n",
    "            return self.first/self.second    \n",
    "\n",
    "d = FiveCalculation(10,5,3)\n",
    "print(f'First number is {d.first}') \n",
    "print(f'Second number is {d.second}')\n",
    "print(f'Addition result is {d.add()}') \n",
    "print(f'Second number is {d.second}')\n",
    "print(f'Substraction result is {d.substract()}') \n",
    "print(f'Second number is {d.second}')\n",
    "print(f'Multiplication result is {d.mul()}')     \n",
    "print(f'Division result is {d.div()}')  \n",
    "print(f'Power {d.pow()}')\n",
    "\n",
    "%save fiveCalculation.py 18"
   ]
  },
  {
   "cell_type": "code",
   "execution_count": null,
   "metadata": {},
   "outputs": [],
   "source": [
    "class Dog:\n",
    "    def __init__(self, name, age):\n",
    "        self.name = name\n",
    "        self.age = age\n",
    "\n",
    "    def __repr__(self):\n",
    "        return f\"Dog(name='{self.name}', age={self.age})\"\n",
    "\n",
    "# Create an instance of the Dog class\n",
    "dog = Dog(\"Buddy\", 3)\n",
    "\n",
    "# Using repr() to get the string representation\n",
    "print(repr(dog))  # Output: Dog(name='Buddy', age=3)\n",
    "\n",
    "# In an interactive Python console, just typing the object name will call __repr__\n",
    "dog  # Output: Dog(name='Buddy', age=3)"
   ]
  },
  {
   "cell_type": "code",
   "execution_count": null,
   "metadata": {},
   "outputs": [],
   "source": [
    "class Person:\n",
    "    def __init__(self,first,last):\n",
    "        self.first = first\n",
    "        self.last = last\n",
    "    def __repr__(self):\n",
    "        # return f\"Name({self.first}+\" \"+{self.last})\"  \n",
    "        return f\"firstName= {self.first},lastName = {self.last}\""
   ]
  },
  {
   "cell_type": "code",
   "execution_count": null,
   "metadata": {},
   "outputs": [],
   "source": [
    "lin = Person(\"lin\",\"hlaing\")\n",
    "repr(lin)"
   ]
  },
  {
   "cell_type": "code",
   "execution_count": null,
   "metadata": {},
   "outputs": [],
   "source": [
    "class Person:\n",
    "    def __init__(self, name, age):\n",
    "        self.name = name\n",
    "        self.age = age\n",
    "\n",
    "    def __repr__(self):\n",
    "        return f\"Person(name='{self.name}', age={self.age})\"\n",
    "\n",
    "    def __str__(self):\n",
    "        return f\"{self.name}, {self.age} years old\"\n",
    "\n",
    "person = Person(\"Alice\", 30)\n",
    "\n",
    "print(repr(person))  # Output: Person(name='Alice', age=30)\n",
    "print(str(person))   # Output: Alice, 30 years old\n",
    "\n",
    "# In an interactive Python console:\n",
    "person  # Output: Person(name='Alice', age=30)"
   ]
  },
  {
   "cell_type": "code",
   "execution_count": null,
   "metadata": {},
   "outputs": [],
   "source": []
  }
 ],
 "metadata": {
  "kernelspec": {
   "display_name": "ml_env",
   "language": "python",
   "name": "python3"
  },
  "language_info": {
   "codemirror_mode": {
    "name": "ipython",
    "version": 3
   },
   "file_extension": ".py",
   "mimetype": "text/x-python",
   "name": "python",
   "nbconvert_exporter": "python",
   "pygments_lexer": "ipython3",
   "version": "3.8.18"
  }
 },
 "nbformat": 4,
 "nbformat_minor": 2
}
